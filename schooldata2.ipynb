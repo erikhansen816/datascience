{
 "cells": [
  {
   "cell_type": "markdown",
   "metadata": {},
   "source": [
    "# School Census Analysis\n",
    "\n",
    "The dataset we will use is from the American Statistical \n",
    "Association’s [U.S. Census at School](https://ww2.amstat.org/censusatschool/) project and consists \n",
    "of a wide array of questions answered by American school \n",
    "students from all states and most grades. A 500-record dataset\n",
    "has been sampled and downloaded from this project and presented \n",
    "as an Excel file at http://bit.ly/2VuOA98\n",
    "\n",
    "No meta-data are available for this dataset. Fortunately, most of the \n",
    "field names are self-explanatory, although there may be a wide \n",
    "variation in how individual participants answered the questions.\n",
    "\n",
    "Comparing paid work hours to armspan"
   ]
  },
  {
   "cell_type": "code",
   "execution_count": 8,
   "metadata": {},
   "outputs": [],
   "source": [
    "import matplotlib.pyplot as plt\n",
    "import pandas as pd\n",
    "import numpy as np\n",
    "pd.options.mode.chained_assignment = None  # default='warn'"
   ]
  },
  {
   "cell_type": "code",
   "execution_count": 9,
   "metadata": {},
   "outputs": [
    {
     "data": {
      "text/plain": [
       "Armspan     float64\n",
       "PaidWork    float64\n",
       "dtype: object"
      ]
     },
     "execution_count": 9,
     "metadata": {},
     "output_type": "execute_result"
    }
   ],
   "source": [
    "df = pd.read_excel(\"http://bit.ly/2VuOA98\")\n",
    "dfarmspan = df[['Armspan_cm', 'Paid_Work_Hours']]\n",
    "dfarmspan.columns = ['Armspan','PaidWork']\n",
    "dfarmspan.dtypes"
   ]
  },
  {
   "cell_type": "code",
   "execution_count": 10,
   "metadata": {},
   "outputs": [
    {
     "name": "stdout",
     "output_type": "stream",
     "text": [
      "[167.   182.5  181.   177.8  170.   178.    72.   147.   160.      nan\n",
      " 165.4  188.   149.5  187.   176.   170.6  148.   150.   180.   182.\n",
      " 168.   153.3   28.8  153.     0.   151.   189.   159.   155.    57.\n",
      " 155.5  158.   161.   193.    64.   171.    63.5   73.   162.   152.\n",
      " 177.   165.7   25.   110.    59.    50.   183.    69.5  200.   157.\n",
      " 166.   165.   179.   175.   154.   143.    69.    71.   169.     5.\n",
      " 184.4  173.   174.   164.     4.   185.    86.   172.2  170.5  103.\n",
      " 190.   175.5   66.   170.2  124.   183.5   63.   185.4   45.    70.\n",
      " 186.   163.   156.   167.6  125.   182.8  152.4  171.4   58.    95.\n",
      " 150.2  172.   195.   184.   181.7    1.   146.    83.   190.8  173.5\n",
      " 144.   178.4  164.5  163.5  164.2   26.5   56.   176.5  180.3   72.5\n",
      "  18.    65.    28.    76.   142.    75.    74.   192.5   90.   288.\n",
      " 121.   172.5  195.7  190.5   78.    68.    91.44 173.3   77.   140.\n",
      "  85.    84.   145.   134.    62.   196.   172.7  154.9   23.   149.\n",
      " 192.   165.1  162.5 ]\n",
      "[  nan   0.   30.   20.    6.   12.   16.    8.    5.    4.    3.   14.\n",
      "  40.   15.    1.    2.   24.   13.   10.   21.   25.    7.   26.  100.\n",
      "  32.    6.5  17.   11.   36.   19.    9.   35.   56.   18.   80.   50.\n",
      "  27. ]\n"
     ]
    }
   ],
   "source": [
    "print(dfarmspan.Armspan.unique())\n",
    "print(dfarmspan.PaidWork.unique())"
   ]
  },
  {
   "cell_type": "code",
   "execution_count": 11,
   "metadata": {},
   "outputs": [],
   "source": [
    "dfarmspan.Armspan = pd.to_numeric(dfarmspan.Armspan, errors='coerce')\n",
    "dfarmspan.PaidWork = pd.to_numeric(dfarmspan.PaidWork, errors='coerce')"
   ]
  },
  {
   "cell_type": "code",
   "execution_count": 12,
   "metadata": {},
   "outputs": [
    {
     "data": {
      "text/html": [
       "<div>\n",
       "<style>\n",
       "    .dataframe thead tr:only-child th {\n",
       "        text-align: right;\n",
       "    }\n",
       "\n",
       "    .dataframe thead th {\n",
       "        text-align: left;\n",
       "    }\n",
       "\n",
       "    .dataframe tbody tr th {\n",
       "        vertical-align: top;\n",
       "    }\n",
       "</style>\n",
       "<table border=\"1\" class=\"dataframe\">\n",
       "  <thead>\n",
       "    <tr style=\"text-align: right;\">\n",
       "      <th></th>\n",
       "      <th>Armspan</th>\n",
       "      <th>PaidWork</th>\n",
       "    </tr>\n",
       "  </thead>\n",
       "  <tbody>\n",
       "    <tr>\n",
       "      <th>Armspan</th>\n",
       "      <td>1.000000</td>\n",
       "      <td>-0.069938</td>\n",
       "    </tr>\n",
       "    <tr>\n",
       "      <th>PaidWork</th>\n",
       "      <td>-0.069938</td>\n",
       "      <td>1.000000</td>\n",
       "    </tr>\n",
       "  </tbody>\n",
       "</table>\n",
       "</div>"
      ],
      "text/plain": [
       "           Armspan  PaidWork\n",
       "Armspan   1.000000 -0.069938\n",
       "PaidWork -0.069938  1.000000"
      ]
     },
     "execution_count": 12,
     "metadata": {},
     "output_type": "execute_result"
    }
   ],
   "source": [
    "dfarmspan.corr()"
   ]
  },
  {
   "cell_type": "code",
   "execution_count": 14,
   "metadata": {},
   "outputs": [
    {
     "data": {
      "image/png": "[encoded data removed]",
      "text/plain": [
       "<matplotlib.figure.Figure at 0x7f3d4c25d828>"
      ]
     },
     "metadata": {
      "needs_background": "light"
     },
     "output_type": "display_data"
    }
   ],
   "source": [
    "plt.scatter(dfarmspan.Armspan, dfarmspan.PaidWork)\n",
    "plt.show()"
   ]
  },
  {
   "cell_type": "code",
   "execution_count": 15,
   "metadata": {},
   "outputs": [
    {
     "data": {
      "image/png": "[encoded data removed]",
      "text/plain": [
       "<matplotlib.figure.Figure at 0x7f3d7bccacf8>"
      ]
     },
     "metadata": {
      "needs_background": "light"
     },
     "output_type": "display_data"
    },
    {
     "data": {
      "image/png": "[encoded data removed]",
      "text/plain": [
       "<matplotlib.figure.Figure at 0x7f3d48eee550>"
      ]
     },
     "metadata": {
      "needs_background": "light"
     },
     "output_type": "display_data"
    }
   ],
   "source": [
    "dfarmspan = dfarmspan.dropna()\n",
    "len(dfarmspan)\n",
    "plt.hist(dfarmspan.Armspan)\n",
    "plt.title('Armspan')\n",
    "plt.show()\n",
    "plt.hist(dfarmspan.PaidWork)\n",
    "plt.title('PaidWork')\n",
    "plt.show()"
   ]
  },
  {
   "cell_type": "code",
   "execution_count": 23,
   "metadata": {},
   "outputs": [
    {
     "data": {
      "image/png": "[encoded data removed]",
      "text/plain": [
       "<matplotlib.figure.Figure at 0x7f3d48ce8390>"
      ]
     },
     "metadata": {
      "needs_background": "light"
     },
     "output_type": "display_data"
    },
    {
     "data": {
      "image/png": "[encoded data removed]",
      "text/plain": [
       "<matplotlib.figure.Figure at 0x7f3d48d548d0>"
      ]
     },
     "metadata": {
      "needs_background": "light"
     },
     "output_type": "display_data"
    }
   ],
   "source": [
    "dfarmspan = dfarmspan[dfarmspan.PaidWork <= 40]\n",
    "dfarmspan = dfarmspan[dfarmspan.Armspan >= 50]\n",
    "dfarmspan = dfarmspan[dfarmspan.Armspan <= 250]\n",
    "\n",
    "plt.hist(dfarmspan.Armspan)\n",
    "plt.title('Armspan')\n",
    "plt.show()\n",
    "plt.hist(dfarmspan.PaidWork)\n",
    "plt.title('PaidWork')\n",
    "plt.show()"
   ]
  },
  {
   "cell_type": "code",
   "execution_count": 24,
   "metadata": {},
   "outputs": [
    {
     "data": {
      "text/html": [
       "<div>\n",
       "<style>\n",
       "    .dataframe thead tr:only-child th {\n",
       "        text-align: right;\n",
       "    }\n",
       "\n",
       "    .dataframe thead th {\n",
       "        text-align: left;\n",
       "    }\n",
       "\n",
       "    .dataframe tbody tr th {\n",
       "        vertical-align: top;\n",
       "    }\n",
       "</style>\n",
       "<table border=\"1\" class=\"dataframe\">\n",
       "  <thead>\n",
       "    <tr style=\"text-align: right;\">\n",
       "      <th></th>\n",
       "      <th>Armspan</th>\n",
       "      <th>PaidWork</th>\n",
       "    </tr>\n",
       "  </thead>\n",
       "  <tbody>\n",
       "    <tr>\n",
       "      <th>Armspan</th>\n",
       "      <td>1.000000</td>\n",
       "      <td>0.011503</td>\n",
       "    </tr>\n",
       "    <tr>\n",
       "      <th>PaidWork</th>\n",
       "      <td>0.011503</td>\n",
       "      <td>1.000000</td>\n",
       "    </tr>\n",
       "  </tbody>\n",
       "</table>\n",
       "</div>"
      ],
      "text/plain": [
       "           Armspan  PaidWork\n",
       "Armspan   1.000000  0.011503\n",
       "PaidWork  0.011503  1.000000"
      ]
     },
     "execution_count": 24,
     "metadata": {},
     "output_type": "execute_result"
    }
   ],
   "source": [
    "dfarmspan.corr()"
   ]
  },
  {
   "cell_type": "code",
   "execution_count": 25,
   "metadata": {},
   "outputs": [
    {
     "data": {
      "image/png": "[encoded data removed]",
      "text/plain": [
       "<matplotlib.figure.Figure at 0x7f3d48db5d68>"
      ]
     },
     "metadata": {
      "needs_background": "light"
     },
     "output_type": "display_data"
    }
   ],
   "source": [
    "plt.scatter(dfarmspan.Armspan, dfarmspan.PaidWork)\n",
    "plt.show()"
   ]
  },
  {
   "cell_type": "markdown",
   "metadata": {},
   "source": [
    "# Conclusion\n",
    "\n",
    "There is no correlation between the armspan of people and the hours that they work."
   ]
  },
  {
   "cell_type": "code",
   "execution_count": null,
   "metadata": {},
   "outputs": [],
   "source": []
  }
 ],
 "metadata": {
  "kernelspec": {
   "display_name": "Python 3",
   "language": "python",
   "name": "python3"
  },
  "language_info": {
   "codemirror_mode": {
    "name": "ipython",
    "version": 3
   },
   "file_extension": ".py",
   "mimetype": "text/x-python",
   "name": "python",
   "nbconvert_exporter": "python",
   "pygments_lexer": "ipython3",
   "version": "3.5.2"
  }
 },
 "nbformat": 4,
 "nbformat_minor": 2
}
